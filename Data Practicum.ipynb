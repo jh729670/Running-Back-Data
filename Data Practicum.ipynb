{
 "cells": [
  {
   "cell_type": "code",
   "execution_count": 1,
   "metadata": {},
   "outputs": [
    {
     "name": "stderr",
     "output_type": "stream",
     "text": [
      "Using TensorFlow backend.\n"
     ]
    }
   ],
   "source": [
    "import pandas as pd\n",
    "import numpy as np\n",
    "from sklearn.model_selection import train_test_split\n",
    "from sklearn.ensemble import RandomForestRegressor\n",
    "from keras.layers import Dense\n",
    "from keras.models import Sequential\n",
    "from sklearn import preprocessing\n",
    "from sklearn.metrics import confusion_matrix, precision_score, recall_score,accuracy_score\n",
    "from sklearn.linear_model import LogisticRegression\n",
    "from sklearn.model_selection import cross_val_score,cross_val_predict\n",
    "from sklearn.ensemble import RandomForestClassifier\n",
    "from sklearn.model_selection import GridSearchCV\n",
    "import random\n",
    "from keras.wrappers.scikit_learn import KerasClassifier\n",
    "from sklearn.model_selection import RandomizedSearchCV\n",
    "from keras.callbacks import EarlyStopping\n",
    "from keras.optimizers import Adam"
   ]
  },
  {
   "cell_type": "code",
   "execution_count": 2,
   "metadata": {},
   "outputs": [],
   "source": [
    "#Exploratory Analysis\n",
    "data=pd.read_csv('RB_stats.csv')\n",
    "\n",
    "#Gets the dimensions of the data frame. 558 rows by 32 columns\n",
    "data.shape\n",
    "\n",
    "data.head()\n",
    "\n",
    "#Drops the Player name, Year, and team columns will not need them for scaling\n",
    "preprocess_data=data.iloc[:,3:33]\n",
    "preprocess_data=preprocess_data.dropna()\n",
    "\n",
    "\n"
   ]
  },
  {
   "cell_type": "code",
   "execution_count": 41,
   "metadata": {},
   "outputs": [
    {
     "data": {
      "text/plain": [
       "Player                Latavius Murray\n",
       "Year                             2016\n",
       "Tm                                OAK\n",
       "Age                                26\n",
       "GP                                 14\n",
       "RB_1                                0\n",
       "%Snaps                           0.47\n",
       "#Snaps                            525\n",
       "Total_Touches                     228\n",
       "Rush_Att                          195\n",
       "Rush_Yds                          788\n",
       "Yards/Att                           4\n",
       "Target                             43\n",
       "Reception                          33\n",
       "Receiving_Yards                   264\n",
       "Yards/Rec                           8\n",
       "Rush_TD                            12\n",
       "Rec_TD                              0\n",
       "Total_TD                           12\n",
       "Touch/TD                           19\n",
       "Fumbles                             1\n",
       "Target_Share_%                   0.06\n",
       "Fantasy_Point                   191.7\n",
       "FF_PPG                           13.7\n",
       "P/Snap                           0.37\n",
       "100+Yrd/games                       4\n",
       "Games_w/TD                          8\n",
       "18+_Touch                           5\n",
       "Top_12                              6\n",
       "Perfromance_Metric               25.4\n",
       "Points/Touch                     0.84\n",
       "Point/Touch-TD                   0.15\n",
       "Name: 378, dtype: object"
      ]
     },
     "execution_count": 41,
     "metadata": {},
     "output_type": "execute_result"
    }
   ],
   "source": [
    "data.iloc[378]"
   ]
  },
  {
   "cell_type": "code",
   "execution_count": 45,
   "metadata": {},
   "outputs": [
    {
     "data": {
      "text/html": [
       "<div>\n",
       "<style scoped>\n",
       "    .dataframe tbody tr th:only-of-type {\n",
       "        vertical-align: middle;\n",
       "    }\n",
       "\n",
       "    .dataframe tbody tr th {\n",
       "        vertical-align: top;\n",
       "    }\n",
       "\n",
       "    .dataframe thead th {\n",
       "        text-align: right;\n",
       "    }\n",
       "</style>\n",
       "<table border=\"1\" class=\"dataframe\">\n",
       "  <thead>\n",
       "    <tr style=\"text-align: right;\">\n",
       "      <th></th>\n",
       "      <th>Player</th>\n",
       "      <th>Year</th>\n",
       "      <th>Tm</th>\n",
       "      <th>Age</th>\n",
       "      <th>GP</th>\n",
       "      <th>RB_1</th>\n",
       "      <th>%Snaps</th>\n",
       "      <th>#Snaps</th>\n",
       "      <th>Total_Touches</th>\n",
       "      <th>Rush_Att</th>\n",
       "      <th>...</th>\n",
       "      <th>Fantasy_Point</th>\n",
       "      <th>FF_PPG</th>\n",
       "      <th>P/Snap</th>\n",
       "      <th>100+Yrd/games</th>\n",
       "      <th>Games_w/TD</th>\n",
       "      <th>18+_Touch</th>\n",
       "      <th>Top_12</th>\n",
       "      <th>Perfromance_Metric</th>\n",
       "      <th>Points/Touch</th>\n",
       "      <th>Point/Touch-TD</th>\n",
       "    </tr>\n",
       "  </thead>\n",
       "  <tbody>\n",
       "    <tr>\n",
       "      <th>366</th>\n",
       "      <td>David Johnson</td>\n",
       "      <td>2016</td>\n",
       "      <td>ARI</td>\n",
       "      <td>25</td>\n",
       "      <td>16</td>\n",
       "      <td>1</td>\n",
       "      <td>0.84</td>\n",
       "      <td>957</td>\n",
       "      <td>373</td>\n",
       "      <td>293</td>\n",
       "      <td>...</td>\n",
       "      <td>361.8</td>\n",
       "      <td>22.6</td>\n",
       "      <td>0.38</td>\n",
       "      <td>15</td>\n",
       "      <td>10.0</td>\n",
       "      <td>12</td>\n",
       "      <td>12</td>\n",
       "      <td>65.6</td>\n",
       "      <td>0.97</td>\n",
       "      <td>0.18</td>\n",
       "    </tr>\n",
       "    <tr>\n",
       "      <th>367</th>\n",
       "      <td>Ezekiel Elliott</td>\n",
       "      <td>2016</td>\n",
       "      <td>DAL</td>\n",
       "      <td>21</td>\n",
       "      <td>15</td>\n",
       "      <td>1</td>\n",
       "      <td>0.68</td>\n",
       "      <td>716</td>\n",
       "      <td>354</td>\n",
       "      <td>322</td>\n",
       "      <td>...</td>\n",
       "      <td>309.4</td>\n",
       "      <td>20.6</td>\n",
       "      <td>0.43</td>\n",
       "      <td>11</td>\n",
       "      <td>10.0</td>\n",
       "      <td>14</td>\n",
       "      <td>12</td>\n",
       "      <td>65.5</td>\n",
       "      <td>0.87</td>\n",
       "      <td>0.13</td>\n",
       "    </tr>\n",
       "    <tr>\n",
       "      <th>368</th>\n",
       "      <td>Le'Veon Bell</td>\n",
       "      <td>2016</td>\n",
       "      <td>PIT</td>\n",
       "      <td>24</td>\n",
       "      <td>12</td>\n",
       "      <td>1</td>\n",
       "      <td>0.72</td>\n",
       "      <td>781</td>\n",
       "      <td>336</td>\n",
       "      <td>261</td>\n",
       "      <td>...</td>\n",
       "      <td>277.9</td>\n",
       "      <td>23.2</td>\n",
       "      <td>0.36</td>\n",
       "      <td>11</td>\n",
       "      <td>5.0</td>\n",
       "      <td>11</td>\n",
       "      <td>9</td>\n",
       "      <td>46.2</td>\n",
       "      <td>0.83</td>\n",
       "      <td>0.17</td>\n",
       "    </tr>\n",
       "    <tr>\n",
       "      <th>369</th>\n",
       "      <td>LeSean McCoy</td>\n",
       "      <td>2016</td>\n",
       "      <td>BUF</td>\n",
       "      <td>28</td>\n",
       "      <td>15</td>\n",
       "      <td>1</td>\n",
       "      <td>0.61</td>\n",
       "      <td>650</td>\n",
       "      <td>284</td>\n",
       "      <td>234</td>\n",
       "      <td>...</td>\n",
       "      <td>271.3</td>\n",
       "      <td>18.1</td>\n",
       "      <td>0.42</td>\n",
       "      <td>10</td>\n",
       "      <td>9.0</td>\n",
       "      <td>12</td>\n",
       "      <td>9</td>\n",
       "      <td>51.4</td>\n",
       "      <td>0.96</td>\n",
       "      <td>0.14</td>\n",
       "    </tr>\n",
       "    <tr>\n",
       "      <th>370</th>\n",
       "      <td>DeMarco Murray</td>\n",
       "      <td>2016</td>\n",
       "      <td>TEN</td>\n",
       "      <td>28</td>\n",
       "      <td>16</td>\n",
       "      <td>1</td>\n",
       "      <td>0.81</td>\n",
       "      <td>861</td>\n",
       "      <td>346</td>\n",
       "      <td>293</td>\n",
       "      <td>...</td>\n",
       "      <td>262.9</td>\n",
       "      <td>16.4</td>\n",
       "      <td>0.31</td>\n",
       "      <td>6</td>\n",
       "      <td>10.0</td>\n",
       "      <td>14</td>\n",
       "      <td>9</td>\n",
       "      <td>55.7</td>\n",
       "      <td>0.76</td>\n",
       "      <td>0.14</td>\n",
       "    </tr>\n",
       "    <tr>\n",
       "      <th>371</th>\n",
       "      <td>Devonta Freeman</td>\n",
       "      <td>2016</td>\n",
       "      <td>ATL</td>\n",
       "      <td>24</td>\n",
       "      <td>16</td>\n",
       "      <td>1</td>\n",
       "      <td>0.58</td>\n",
       "      <td>604</td>\n",
       "      <td>281</td>\n",
       "      <td>227</td>\n",
       "      <td>...</td>\n",
       "      <td>256.1</td>\n",
       "      <td>16.0</td>\n",
       "      <td>0.42</td>\n",
       "      <td>7</td>\n",
       "      <td>8.0</td>\n",
       "      <td>8</td>\n",
       "      <td>7</td>\n",
       "      <td>34.3</td>\n",
       "      <td>0.91</td>\n",
       "      <td>0.16</td>\n",
       "    </tr>\n",
       "    <tr>\n",
       "      <th>372</th>\n",
       "      <td>Melvin Gordon</td>\n",
       "      <td>2016</td>\n",
       "      <td>SD</td>\n",
       "      <td>23</td>\n",
       "      <td>13</td>\n",
       "      <td>1</td>\n",
       "      <td>0.62</td>\n",
       "      <td>659</td>\n",
       "      <td>295</td>\n",
       "      <td>254</td>\n",
       "      <td>...</td>\n",
       "      <td>230.1</td>\n",
       "      <td>17.7</td>\n",
       "      <td>0.35</td>\n",
       "      <td>6</td>\n",
       "      <td>8.0</td>\n",
       "      <td>10</td>\n",
       "      <td>8</td>\n",
       "      <td>41.9</td>\n",
       "      <td>0.78</td>\n",
       "      <td>0.15</td>\n",
       "    </tr>\n",
       "    <tr>\n",
       "      <th>373</th>\n",
       "      <td>LeGarrette Blount</td>\n",
       "      <td>2016</td>\n",
       "      <td>NE</td>\n",
       "      <td>30</td>\n",
       "      <td>16</td>\n",
       "      <td>1</td>\n",
       "      <td>0.47</td>\n",
       "      <td>527</td>\n",
       "      <td>306</td>\n",
       "      <td>299</td>\n",
       "      <td>...</td>\n",
       "      <td>229.4</td>\n",
       "      <td>14.3</td>\n",
       "      <td>0.44</td>\n",
       "      <td>4</td>\n",
       "      <td>13.0</td>\n",
       "      <td>11</td>\n",
       "      <td>4</td>\n",
       "      <td>45.4</td>\n",
       "      <td>0.75</td>\n",
       "      <td>0.10</td>\n",
       "    </tr>\n",
       "    <tr>\n",
       "      <th>374</th>\n",
       "      <td>Jordan Howard</td>\n",
       "      <td>2016</td>\n",
       "      <td>CHI</td>\n",
       "      <td>22</td>\n",
       "      <td>16</td>\n",
       "      <td>1</td>\n",
       "      <td>0.65</td>\n",
       "      <td>654</td>\n",
       "      <td>281</td>\n",
       "      <td>252</td>\n",
       "      <td>...</td>\n",
       "      <td>215.6</td>\n",
       "      <td>13.5</td>\n",
       "      <td>0.33</td>\n",
       "      <td>10</td>\n",
       "      <td>5.0</td>\n",
       "      <td>9</td>\n",
       "      <td>5</td>\n",
       "      <td>31.1</td>\n",
       "      <td>0.77</td>\n",
       "      <td>0.13</td>\n",
       "    </tr>\n",
       "    <tr>\n",
       "      <th>375</th>\n",
       "      <td>Mark Ingram</td>\n",
       "      <td>2016</td>\n",
       "      <td>NO</td>\n",
       "      <td>27</td>\n",
       "      <td>16</td>\n",
       "      <td>1</td>\n",
       "      <td>0.46</td>\n",
       "      <td>530</td>\n",
       "      <td>251</td>\n",
       "      <td>205</td>\n",
       "      <td>...</td>\n",
       "      <td>215.2</td>\n",
       "      <td>13.5</td>\n",
       "      <td>0.41</td>\n",
       "      <td>5</td>\n",
       "      <td>7.0</td>\n",
       "      <td>7</td>\n",
       "      <td>6</td>\n",
       "      <td>26.1</td>\n",
       "      <td>0.86</td>\n",
       "      <td>0.14</td>\n",
       "    </tr>\n",
       "    <tr>\n",
       "      <th>376</th>\n",
       "      <td>Jay Ajayi</td>\n",
       "      <td>2016</td>\n",
       "      <td>MIA</td>\n",
       "      <td>23</td>\n",
       "      <td>15</td>\n",
       "      <td>1</td>\n",
       "      <td>0.61</td>\n",
       "      <td>582</td>\n",
       "      <td>287</td>\n",
       "      <td>260</td>\n",
       "      <td>...</td>\n",
       "      <td>201.8</td>\n",
       "      <td>13.5</td>\n",
       "      <td>0.35</td>\n",
       "      <td>4</td>\n",
       "      <td>7.0</td>\n",
       "      <td>11</td>\n",
       "      <td>6</td>\n",
       "      <td>35.1</td>\n",
       "      <td>0.70</td>\n",
       "      <td>0.12</td>\n",
       "    </tr>\n",
       "    <tr>\n",
       "      <th>377</th>\n",
       "      <td>Frank Gore</td>\n",
       "      <td>2016</td>\n",
       "      <td>IND</td>\n",
       "      <td>33</td>\n",
       "      <td>16</td>\n",
       "      <td>1</td>\n",
       "      <td>0.59</td>\n",
       "      <td>650</td>\n",
       "      <td>301</td>\n",
       "      <td>263</td>\n",
       "      <td>...</td>\n",
       "      <td>195.2</td>\n",
       "      <td>12.2</td>\n",
       "      <td>0.30</td>\n",
       "      <td>3</td>\n",
       "      <td>7.0</td>\n",
       "      <td>10</td>\n",
       "      <td>2</td>\n",
       "      <td>27.5</td>\n",
       "      <td>0.65</td>\n",
       "      <td>0.14</td>\n",
       "    </tr>\n",
       "    <tr>\n",
       "      <th>378</th>\n",
       "      <td>Latavius Murray</td>\n",
       "      <td>2016</td>\n",
       "      <td>OAK</td>\n",
       "      <td>26</td>\n",
       "      <td>14</td>\n",
       "      <td>0</td>\n",
       "      <td>0.47</td>\n",
       "      <td>525</td>\n",
       "      <td>228</td>\n",
       "      <td>195</td>\n",
       "      <td>...</td>\n",
       "      <td>191.7</td>\n",
       "      <td>13.7</td>\n",
       "      <td>0.37</td>\n",
       "      <td>4</td>\n",
       "      <td>8.0</td>\n",
       "      <td>5</td>\n",
       "      <td>6</td>\n",
       "      <td>25.4</td>\n",
       "      <td>0.84</td>\n",
       "      <td>0.15</td>\n",
       "    </tr>\n",
       "  </tbody>\n",
       "</table>\n",
       "<p>13 rows × 32 columns</p>\n",
       "</div>"
      ],
      "text/plain": [
       "                Player  Year   Tm  Age  GP  RB_1  %Snaps  #Snaps  \\\n",
       "366      David Johnson  2016  ARI   25  16     1    0.84     957   \n",
       "367    Ezekiel Elliott  2016  DAL   21  15     1    0.68     716   \n",
       "368       Le'Veon Bell  2016  PIT   24  12     1    0.72     781   \n",
       "369       LeSean McCoy  2016  BUF   28  15     1    0.61     650   \n",
       "370     DeMarco Murray  2016  TEN   28  16     1    0.81     861   \n",
       "371    Devonta Freeman  2016  ATL   24  16     1    0.58     604   \n",
       "372      Melvin Gordon  2016   SD   23  13     1    0.62     659   \n",
       "373  LeGarrette Blount  2016   NE   30  16     1    0.47     527   \n",
       "374      Jordan Howard  2016  CHI   22  16     1    0.65     654   \n",
       "375        Mark Ingram  2016   NO   27  16     1    0.46     530   \n",
       "376          Jay Ajayi  2016  MIA   23  15     1    0.61     582   \n",
       "377         Frank Gore  2016  IND   33  16     1    0.59     650   \n",
       "378    Latavius Murray  2016  OAK   26  14     0    0.47     525   \n",
       "\n",
       "     Total_Touches  Rush_Att  ...  Fantasy_Point  FF_PPG  P/Snap  \\\n",
       "366            373       293  ...          361.8    22.6    0.38   \n",
       "367            354       322  ...          309.4    20.6    0.43   \n",
       "368            336       261  ...          277.9    23.2    0.36   \n",
       "369            284       234  ...          271.3    18.1    0.42   \n",
       "370            346       293  ...          262.9    16.4    0.31   \n",
       "371            281       227  ...          256.1    16.0    0.42   \n",
       "372            295       254  ...          230.1    17.7    0.35   \n",
       "373            306       299  ...          229.4    14.3    0.44   \n",
       "374            281       252  ...          215.6    13.5    0.33   \n",
       "375            251       205  ...          215.2    13.5    0.41   \n",
       "376            287       260  ...          201.8    13.5    0.35   \n",
       "377            301       263  ...          195.2    12.2    0.30   \n",
       "378            228       195  ...          191.7    13.7    0.37   \n",
       "\n",
       "     100+Yrd/games  Games_w/TD  18+_Touch  Top_12  Perfromance_Metric  \\\n",
       "366             15        10.0         12      12                65.6   \n",
       "367             11        10.0         14      12                65.5   \n",
       "368             11         5.0         11       9                46.2   \n",
       "369             10         9.0         12       9                51.4   \n",
       "370              6        10.0         14       9                55.7   \n",
       "371              7         8.0          8       7                34.3   \n",
       "372              6         8.0         10       8                41.9   \n",
       "373              4        13.0         11       4                45.4   \n",
       "374             10         5.0          9       5                31.1   \n",
       "375              5         7.0          7       6                26.1   \n",
       "376              4         7.0         11       6                35.1   \n",
       "377              3         7.0         10       2                27.5   \n",
       "378              4         8.0          5       6                25.4   \n",
       "\n",
       "     Points/Touch  Point/Touch-TD  \n",
       "366          0.97            0.18  \n",
       "367          0.87            0.13  \n",
       "368          0.83            0.17  \n",
       "369          0.96            0.14  \n",
       "370          0.76            0.14  \n",
       "371          0.91            0.16  \n",
       "372          0.78            0.15  \n",
       "373          0.75            0.10  \n",
       "374          0.77            0.13  \n",
       "375          0.86            0.14  \n",
       "376          0.70            0.12  \n",
       "377          0.65            0.14  \n",
       "378          0.84            0.15  \n",
       "\n",
       "[13 rows x 32 columns]"
      ]
     },
     "execution_count": 45,
     "metadata": {},
     "output_type": "execute_result"
    }
   ],
   "source": [
    "data[(data['Year']==2016) & (data['Fantasy_Point']>190)]"
   ]
  },
  {
   "cell_type": "code",
   "execution_count": 3,
   "metadata": {},
   "outputs": [
    {
     "data": {
      "text/html": [
       "<div>\n",
       "<style scoped>\n",
       "    .dataframe tbody tr th:only-of-type {\n",
       "        vertical-align: middle;\n",
       "    }\n",
       "\n",
       "    .dataframe tbody tr th {\n",
       "        vertical-align: top;\n",
       "    }\n",
       "\n",
       "    .dataframe thead th {\n",
       "        text-align: right;\n",
       "    }\n",
       "</style>\n",
       "<table border=\"1\" class=\"dataframe\">\n",
       "  <thead>\n",
       "    <tr style=\"text-align: right;\">\n",
       "      <th></th>\n",
       "      <th>Year</th>\n",
       "      <th>Age</th>\n",
       "      <th>GP</th>\n",
       "      <th>RB_1</th>\n",
       "      <th>%Snaps</th>\n",
       "      <th>#Snaps</th>\n",
       "      <th>Total_Touches</th>\n",
       "      <th>Rush_Att</th>\n",
       "      <th>Rush_Yds</th>\n",
       "      <th>Yards/Att</th>\n",
       "      <th>...</th>\n",
       "      <th>Fantasy_Point</th>\n",
       "      <th>FF_PPG</th>\n",
       "      <th>P/Snap</th>\n",
       "      <th>100+Yrd/games</th>\n",
       "      <th>Games_w/TD</th>\n",
       "      <th>18+_Touch</th>\n",
       "      <th>Top_12</th>\n",
       "      <th>Perfromance_Metric</th>\n",
       "      <th>Points/Touch</th>\n",
       "      <th>Point/Touch-TD</th>\n",
       "    </tr>\n",
       "  </thead>\n",
       "  <tbody>\n",
       "    <tr>\n",
       "      <th>count</th>\n",
       "      <td>558.000000</td>\n",
       "      <td>558.000000</td>\n",
       "      <td>558.000000</td>\n",
       "      <td>558.000000</td>\n",
       "      <td>558.000000</td>\n",
       "      <td>558.000000</td>\n",
       "      <td>558.000000</td>\n",
       "      <td>558.000000</td>\n",
       "      <td>558.000000</td>\n",
       "      <td>558.000000</td>\n",
       "      <td>...</td>\n",
       "      <td>558.000000</td>\n",
       "      <td>558.000000</td>\n",
       "      <td>557.000000</td>\n",
       "      <td>558.000000</td>\n",
       "      <td>557.000000</td>\n",
       "      <td>558.000000</td>\n",
       "      <td>558.000000</td>\n",
       "      <td>558.000000</td>\n",
       "      <td>558.000000</td>\n",
       "      <td>558.000000</td>\n",
       "    </tr>\n",
       "    <tr>\n",
       "      <th>mean</th>\n",
       "      <td>2017.050179</td>\n",
       "      <td>25.474910</td>\n",
       "      <td>12.037634</td>\n",
       "      <td>0.129032</td>\n",
       "      <td>0.296308</td>\n",
       "      <td>317.084229</td>\n",
       "      <td>128.491039</td>\n",
       "      <td>105.032258</td>\n",
       "      <td>443.713262</td>\n",
       "      <td>3.966846</td>\n",
       "      <td>...</td>\n",
       "      <td>97.774194</td>\n",
       "      <td>7.610394</td>\n",
       "      <td>0.298187</td>\n",
       "      <td>1.888889</td>\n",
       "      <td>3.140036</td>\n",
       "      <td>2.460573</td>\n",
       "      <td>2.159498</td>\n",
       "      <td>11.884229</td>\n",
       "      <td>0.793441</td>\n",
       "      <td>0.304409</td>\n",
       "    </tr>\n",
       "    <tr>\n",
       "      <th>std</th>\n",
       "      <td>1.551391</td>\n",
       "      <td>2.915676</td>\n",
       "      <td>4.401365</td>\n",
       "      <td>0.335536</td>\n",
       "      <td>0.207881</td>\n",
       "      <td>222.395813</td>\n",
       "      <td>97.852575</td>\n",
       "      <td>85.807950</td>\n",
       "      <td>381.132702</td>\n",
       "      <td>1.268933</td>\n",
       "      <td>...</td>\n",
       "      <td>77.654702</td>\n",
       "      <td>5.233211</td>\n",
       "      <td>0.156968</td>\n",
       "      <td>2.638314</td>\n",
       "      <td>2.806428</td>\n",
       "      <td>3.462710</td>\n",
       "      <td>2.776797</td>\n",
       "      <td>14.171099</td>\n",
       "      <td>0.367227</td>\n",
       "      <td>0.293249</td>\n",
       "    </tr>\n",
       "    <tr>\n",
       "      <th>min</th>\n",
       "      <td>2014.000000</td>\n",
       "      <td>21.000000</td>\n",
       "      <td>0.000000</td>\n",
       "      <td>0.000000</td>\n",
       "      <td>0.000000</td>\n",
       "      <td>0.000000</td>\n",
       "      <td>1.000000</td>\n",
       "      <td>0.000000</td>\n",
       "      <td>-3.000000</td>\n",
       "      <td>-2.000000</td>\n",
       "      <td>...</td>\n",
       "      <td>0.100000</td>\n",
       "      <td>0.000000</td>\n",
       "      <td>0.000000</td>\n",
       "      <td>0.000000</td>\n",
       "      <td>0.000000</td>\n",
       "      <td>0.000000</td>\n",
       "      <td>0.000000</td>\n",
       "      <td>0.000000</td>\n",
       "      <td>0.000000</td>\n",
       "      <td>0.000000</td>\n",
       "    </tr>\n",
       "    <tr>\n",
       "      <th>25%</th>\n",
       "      <td>2016.000000</td>\n",
       "      <td>23.000000</td>\n",
       "      <td>10.000000</td>\n",
       "      <td>0.000000</td>\n",
       "      <td>0.130000</td>\n",
       "      <td>146.250000</td>\n",
       "      <td>46.000000</td>\n",
       "      <td>33.250000</td>\n",
       "      <td>122.750000</td>\n",
       "      <td>3.500000</td>\n",
       "      <td>...</td>\n",
       "      <td>35.075000</td>\n",
       "      <td>3.700000</td>\n",
       "      <td>0.240000</td>\n",
       "      <td>0.000000</td>\n",
       "      <td>1.000000</td>\n",
       "      <td>0.000000</td>\n",
       "      <td>0.000000</td>\n",
       "      <td>2.200000</td>\n",
       "      <td>0.610000</td>\n",
       "      <td>0.132500</td>\n",
       "    </tr>\n",
       "    <tr>\n",
       "      <th>50%</th>\n",
       "      <td>2017.000000</td>\n",
       "      <td>25.000000</td>\n",
       "      <td>14.000000</td>\n",
       "      <td>0.000000</td>\n",
       "      <td>0.265000</td>\n",
       "      <td>290.500000</td>\n",
       "      <td>108.500000</td>\n",
       "      <td>83.000000</td>\n",
       "      <td>343.500000</td>\n",
       "      <td>4.000000</td>\n",
       "      <td>...</td>\n",
       "      <td>80.350000</td>\n",
       "      <td>7.050000</td>\n",
       "      <td>0.290000</td>\n",
       "      <td>1.000000</td>\n",
       "      <td>3.000000</td>\n",
       "      <td>1.000000</td>\n",
       "      <td>1.000000</td>\n",
       "      <td>6.750000</td>\n",
       "      <td>0.730000</td>\n",
       "      <td>0.170000</td>\n",
       "    </tr>\n",
       "    <tr>\n",
       "      <th>75%</th>\n",
       "      <td>2018.000000</td>\n",
       "      <td>27.000000</td>\n",
       "      <td>16.000000</td>\n",
       "      <td>0.000000</td>\n",
       "      <td>0.440000</td>\n",
       "      <td>470.750000</td>\n",
       "      <td>199.750000</td>\n",
       "      <td>167.750000</td>\n",
       "      <td>705.500000</td>\n",
       "      <td>4.600000</td>\n",
       "      <td>...</td>\n",
       "      <td>143.775000</td>\n",
       "      <td>10.775000</td>\n",
       "      <td>0.350000</td>\n",
       "      <td>3.000000</td>\n",
       "      <td>5.000000</td>\n",
       "      <td>4.000000</td>\n",
       "      <td>3.000000</td>\n",
       "      <td>16.075000</td>\n",
       "      <td>0.897500</td>\n",
       "      <td>0.410000</td>\n",
       "    </tr>\n",
       "    <tr>\n",
       "      <th>max</th>\n",
       "      <td>2019.000000</td>\n",
       "      <td>36.000000</td>\n",
       "      <td>16.000000</td>\n",
       "      <td>1.000000</td>\n",
       "      <td>0.930000</td>\n",
       "      <td>1056.000000</td>\n",
       "      <td>449.000000</td>\n",
       "      <td>392.000000</td>\n",
       "      <td>1845.000000</td>\n",
       "      <td>11.300000</td>\n",
       "      <td>...</td>\n",
       "      <td>411.200000</td>\n",
       "      <td>40.600000</td>\n",
       "      <td>1.970000</td>\n",
       "      <td>15.000000</td>\n",
       "      <td>13.000000</td>\n",
       "      <td>16.000000</td>\n",
       "      <td>14.000000</td>\n",
       "      <td>87.300000</td>\n",
       "      <td>4.650000</td>\n",
       "      <td>3.700000</td>\n",
       "    </tr>\n",
       "  </tbody>\n",
       "</table>\n",
       "<p>8 rows × 30 columns</p>\n",
       "</div>"
      ],
      "text/plain": [
       "              Year         Age          GP        RB_1      %Snaps  \\\n",
       "count   558.000000  558.000000  558.000000  558.000000  558.000000   \n",
       "mean   2017.050179   25.474910   12.037634    0.129032    0.296308   \n",
       "std       1.551391    2.915676    4.401365    0.335536    0.207881   \n",
       "min    2014.000000   21.000000    0.000000    0.000000    0.000000   \n",
       "25%    2016.000000   23.000000   10.000000    0.000000    0.130000   \n",
       "50%    2017.000000   25.000000   14.000000    0.000000    0.265000   \n",
       "75%    2018.000000   27.000000   16.000000    0.000000    0.440000   \n",
       "max    2019.000000   36.000000   16.000000    1.000000    0.930000   \n",
       "\n",
       "            #Snaps  Total_Touches    Rush_Att     Rush_Yds   Yards/Att  ...  \\\n",
       "count   558.000000     558.000000  558.000000   558.000000  558.000000  ...   \n",
       "mean    317.084229     128.491039  105.032258   443.713262    3.966846  ...   \n",
       "std     222.395813      97.852575   85.807950   381.132702    1.268933  ...   \n",
       "min       0.000000       1.000000    0.000000    -3.000000   -2.000000  ...   \n",
       "25%     146.250000      46.000000   33.250000   122.750000    3.500000  ...   \n",
       "50%     290.500000     108.500000   83.000000   343.500000    4.000000  ...   \n",
       "75%     470.750000     199.750000  167.750000   705.500000    4.600000  ...   \n",
       "max    1056.000000     449.000000  392.000000  1845.000000   11.300000  ...   \n",
       "\n",
       "       Fantasy_Point      FF_PPG      P/Snap  100+Yrd/games  Games_w/TD  \\\n",
       "count     558.000000  558.000000  557.000000     558.000000  557.000000   \n",
       "mean       97.774194    7.610394    0.298187       1.888889    3.140036   \n",
       "std        77.654702    5.233211    0.156968       2.638314    2.806428   \n",
       "min         0.100000    0.000000    0.000000       0.000000    0.000000   \n",
       "25%        35.075000    3.700000    0.240000       0.000000    1.000000   \n",
       "50%        80.350000    7.050000    0.290000       1.000000    3.000000   \n",
       "75%       143.775000   10.775000    0.350000       3.000000    5.000000   \n",
       "max       411.200000   40.600000    1.970000      15.000000   13.000000   \n",
       "\n",
       "        18+_Touch      Top_12  Perfromance_Metric  Points/Touch  \\\n",
       "count  558.000000  558.000000          558.000000    558.000000   \n",
       "mean     2.460573    2.159498           11.884229      0.793441   \n",
       "std      3.462710    2.776797           14.171099      0.367227   \n",
       "min      0.000000    0.000000            0.000000      0.000000   \n",
       "25%      0.000000    0.000000            2.200000      0.610000   \n",
       "50%      1.000000    1.000000            6.750000      0.730000   \n",
       "75%      4.000000    3.000000           16.075000      0.897500   \n",
       "max     16.000000   14.000000           87.300000      4.650000   \n",
       "\n",
       "       Point/Touch-TD  \n",
       "count      558.000000  \n",
       "mean         0.304409  \n",
       "std          0.293249  \n",
       "min          0.000000  \n",
       "25%          0.132500  \n",
       "50%          0.170000  \n",
       "75%          0.410000  \n",
       "max          3.700000  \n",
       "\n",
       "[8 rows x 30 columns]"
      ]
     },
     "execution_count": 3,
     "metadata": {},
     "output_type": "execute_result"
    }
   ],
   "source": [
    "data.describe()"
   ]
  },
  {
   "cell_type": "code",
   "execution_count": 8,
   "metadata": {},
   "outputs": [
    {
     "data": {
      "text/html": [
       "<div>\n",
       "<style scoped>\n",
       "    .dataframe tbody tr th:only-of-type {\n",
       "        vertical-align: middle;\n",
       "    }\n",
       "\n",
       "    .dataframe tbody tr th {\n",
       "        vertical-align: top;\n",
       "    }\n",
       "\n",
       "    .dataframe thead th {\n",
       "        text-align: right;\n",
       "    }\n",
       "</style>\n",
       "<table border=\"1\" class=\"dataframe\">\n",
       "  <thead>\n",
       "    <tr style=\"text-align: right;\">\n",
       "      <th></th>\n",
       "      <th>Fantasy_Point</th>\n",
       "    </tr>\n",
       "  </thead>\n",
       "  <tbody>\n",
       "    <tr>\n",
       "      <th>Fantasy_Point</th>\n",
       "      <td>1.000000</td>\n",
       "    </tr>\n",
       "    <tr>\n",
       "      <th>Total_Touches</th>\n",
       "      <td>0.940076</td>\n",
       "    </tr>\n",
       "    <tr>\n",
       "      <th>#Snaps</th>\n",
       "      <td>0.931557</td>\n",
       "    </tr>\n",
       "    <tr>\n",
       "      <th>%Snaps</th>\n",
       "      <td>0.929560</td>\n",
       "    </tr>\n",
       "    <tr>\n",
       "      <th>Perfromance_Metric</th>\n",
       "      <td>0.922461</td>\n",
       "    </tr>\n",
       "    <tr>\n",
       "      <th>Top_12</th>\n",
       "      <td>0.920963</td>\n",
       "    </tr>\n",
       "    <tr>\n",
       "      <th>Total_TD</th>\n",
       "      <td>0.911820</td>\n",
       "    </tr>\n",
       "    <tr>\n",
       "      <th>Rush_Yds</th>\n",
       "      <td>0.907818</td>\n",
       "    </tr>\n",
       "    <tr>\n",
       "      <th>Games_w/TD</th>\n",
       "      <td>0.896943</td>\n",
       "    </tr>\n",
       "    <tr>\n",
       "      <th>Rush_Att</th>\n",
       "      <td>0.886074</td>\n",
       "    </tr>\n",
       "    <tr>\n",
       "      <th>100+Yrd/games</th>\n",
       "      <td>0.882420</td>\n",
       "    </tr>\n",
       "    <tr>\n",
       "      <th>FF_PPG</th>\n",
       "      <td>0.876569</td>\n",
       "    </tr>\n",
       "    <tr>\n",
       "      <th>Rush_TD</th>\n",
       "      <td>0.840762</td>\n",
       "    </tr>\n",
       "    <tr>\n",
       "      <th>18+_Touch</th>\n",
       "      <td>0.833614</td>\n",
       "    </tr>\n",
       "    <tr>\n",
       "      <th>Receiving_Yards</th>\n",
       "      <td>0.780992</td>\n",
       "    </tr>\n",
       "    <tr>\n",
       "      <th>Target</th>\n",
       "      <td>0.780932</td>\n",
       "    </tr>\n",
       "    <tr>\n",
       "      <th>Reception</th>\n",
       "      <td>0.779960</td>\n",
       "    </tr>\n",
       "    <tr>\n",
       "      <th>RB_1</th>\n",
       "      <td>0.721134</td>\n",
       "    </tr>\n",
       "    <tr>\n",
       "      <th>Target_Share_%</th>\n",
       "      <td>0.688111</td>\n",
       "    </tr>\n",
       "    <tr>\n",
       "      <th>Rec_TD</th>\n",
       "      <td>0.582391</td>\n",
       "    </tr>\n",
       "    <tr>\n",
       "      <th>GP</th>\n",
       "      <td>0.556069</td>\n",
       "    </tr>\n",
       "    <tr>\n",
       "      <th>Fumbles</th>\n",
       "      <td>0.450020</td>\n",
       "    </tr>\n",
       "    <tr>\n",
       "      <th>Yards/Att</th>\n",
       "      <td>0.320677</td>\n",
       "    </tr>\n",
       "    <tr>\n",
       "      <th>P/Snap</th>\n",
       "      <td>0.267062</td>\n",
       "    </tr>\n",
       "    <tr>\n",
       "      <th>Touch/TD</th>\n",
       "      <td>0.219130</td>\n",
       "    </tr>\n",
       "    <tr>\n",
       "      <th>Yards/Rec</th>\n",
       "      <td>0.116564</td>\n",
       "    </tr>\n",
       "    <tr>\n",
       "      <th>Points/Touch</th>\n",
       "      <td>0.056496</td>\n",
       "    </tr>\n",
       "    <tr>\n",
       "      <th>Age</th>\n",
       "      <td>-0.091738</td>\n",
       "    </tr>\n",
       "    <tr>\n",
       "      <th>Point/Touch-TD</th>\n",
       "      <td>-0.180264</td>\n",
       "    </tr>\n",
       "  </tbody>\n",
       "</table>\n",
       "</div>"
      ],
      "text/plain": [
       "                    Fantasy_Point\n",
       "Fantasy_Point            1.000000\n",
       "Total_Touches            0.940076\n",
       "#Snaps                   0.931557\n",
       "%Snaps                   0.929560\n",
       "Perfromance_Metric       0.922461\n",
       "Top_12                   0.920963\n",
       "Total_TD                 0.911820\n",
       "Rush_Yds                 0.907818\n",
       "Games_w/TD               0.896943\n",
       "Rush_Att                 0.886074\n",
       "100+Yrd/games            0.882420\n",
       "FF_PPG                   0.876569\n",
       "Rush_TD                  0.840762\n",
       "18+_Touch                0.833614\n",
       "Receiving_Yards          0.780992\n",
       "Target                   0.780932\n",
       "Reception                0.779960\n",
       "RB_1                     0.721134\n",
       "Target_Share_%           0.688111\n",
       "Rec_TD                   0.582391\n",
       "GP                       0.556069\n",
       "Fumbles                  0.450020\n",
       "Yards/Att                0.320677\n",
       "P/Snap                   0.267062\n",
       "Touch/TD                 0.219130\n",
       "Yards/Rec                0.116564\n",
       "Points/Touch             0.056496\n",
       "Age                     -0.091738\n",
       "Point/Touch-TD          -0.180264"
      ]
     },
     "execution_count": 8,
     "metadata": {},
     "output_type": "execute_result"
    }
   ],
   "source": [
    "#Scale the data to be able to run models correctly without any weight bias\n",
    "data_scale=preprocessing.scale(preprocess_data)\n",
    "data_scale=pd.DataFrame(data_scale)\n",
    "\n",
    "#Scaling the data causes the data to trasnform into a numpy array, I want it as a data frame to perform a correlation matrix.\n",
    "#But the new data frame does not contain the labels. So I will need to add the labels.\n",
    "\n",
    "#Creates an empty list to store the column names\n",
    "col_names=[]\n",
    "#For loop that stores column names\n",
    "for col in preprocess_data:\n",
    "    col_names.append(col)\n",
    "#adss the column names to the scaled data\n",
    "data_scale.columns=col_names\n",
    "\n",
    "#Creates the correlation matrix\n",
    "corr_matrix=data_scale.corr()\n",
    "#Fantasy Point correlation\n",
    "fantasy_point_corr=corr_matrix['Fantasy_Point'].sort_values(ascending=False)\n",
    "#Correlation for Running Back 1 for each labels\n",
    "corr_matrix['RB_1'].sort_values(ascending=False)\n",
    "\n",
    "rb_corr=pd.DataFrame(fantasy_point_corr)\n",
    "\n",
    "rb_corr.to_csv('rb_correlation.csv')\n",
    "\n",
    "rb_corr\n"
   ]
  },
  {
   "cell_type": "code",
   "execution_count": 29,
   "metadata": {},
   "outputs": [
    {
     "data": {
      "text/plain": [
       "459    1\n",
       "167    0\n",
       "55     0\n",
       "245    0\n",
       "70     0\n",
       "      ..\n",
       "400    0\n",
       "507    0\n",
       "19     0\n",
       "495    0\n",
       "56     0\n",
       "Name: RB_1, Length: 167, dtype: int64"
      ]
     },
     "execution_count": 29,
     "metadata": {},
     "output_type": "execute_result"
    }
   ],
   "source": [
    "\n",
    "#Creates target Variable\n",
    "Y=preprocess_data.iloc[:,2]\n",
    "#Creates indepent Variables\n",
    "X=data_scale.drop('RB_1', axis=1)\n",
    "#create feature list\n",
    "feature_list=list(X.columns)\n",
    "\n",
    "#Split data set into training and test Sets\n",
    "x_train,X_test,y_train,Y_test=train_test_split(X,Y, test_size=.3,random_state=42)\n",
    "\n",
    "x_train.head()\n",
    "\n",
    "Y_test"
   ]
  },
  {
   "cell_type": "code",
   "execution_count": 11,
   "metadata": {},
   "outputs": [],
   "source": [
    "#Run Logistic Regression model and predictions\n",
    "log_reg=LogisticRegression()\n",
    "model=log_reg.fit(x_train,y_train)\n",
    "predict=model.predict(X_test)"
   ]
  },
  {
   "cell_type": "code",
   "execution_count": 10,
   "metadata": {},
   "outputs": [],
   "source": [
    "import itertools\n",
    "import matplotlib.pyplot as plt\n",
    "\n",
    "#Plot feautres of the confusion matrix\n",
    "\n",
    "def plot_confusion_matrix(cm, classes, normalize=False, title='Confusion matrix',cmap=plt.cm.Blues):\n",
    "    plt.imshow(cm, interpolation='nearest', cmap=cmap)\n",
    "    plt.title(title)\n",
    "    plt.colorbar()\n",
    "    tick_marks=np.arange(len(classes))\n",
    "    plt.xticks(tick_marks,classes)\n",
    "    plt.yticks(tick_marks, classes)\n",
    "    \n",
    "    if normalize:\n",
    "        cm=cm.astype('float')/cm.sum(axis-1)[:,np.newaxis]\n",
    "        print('Normalized confusion matrix')\n",
    "    else:\n",
    "        print('Confusion Matrix w/o Normalization')\n",
    "    print(cm)\n",
    "    #Creates threshold to determine font color and labels each section of confusion matrix with their number \n",
    "    thresh=cm.max()/2\n",
    "    for i,j in itertools.product(range(cm.shape[0]), range(cm.shape[1])):\n",
    "        plt.text(j,i,cm[i,j]),\n",
    "        horizontalaligment='center',\n",
    "        color='white'if cm[i,j]>thresh else 'black'\n",
    "    \n",
    "    \n",
    "    \n",
    "    plt.tight_layout()\n",
    "    plt.ylabel('True Label')\n",
    "    plt.xlabel('Predicted Label')\n",
    "cm_plot_labels=['Not RB1','RB1']"
   ]
  },
  {
   "cell_type": "code",
   "execution_count": 12,
   "metadata": {},
   "outputs": [
    {
     "name": "stdout",
     "output_type": "stream",
     "text": [
      "Confusion Matrix w/o Normalization\n",
      "[[140   3]\n",
      " [  2  22]]\n"
     ]
    },
    {
     "data": {
      "image/png": "[encoded data removed]",
      "text/plain": [
       "<Figure size 432x288 with 2 Axes>"
      ]
     },
     "metadata": {
      "needs_background": "light"
     },
     "output_type": "display_data"
    }
   ],
   "source": [
    "#Pots confusion matrix\n",
    "cm=confusion_matrix(Y_test,predict)\n",
    "\n",
    "cm_plot_labels=['Not RB1','RB1']\n",
    "plot_confusion_matrix(cm, cm_plot_labels)\n",
    "\n"
   ]
  },
  {
   "cell_type": "code",
   "execution_count": 13,
   "metadata": {},
   "outputs": [
    {
     "name": "stdout",
     "output_type": "stream",
     "text": [
      "Precision Score for Logisstic Regression is 0.88\n",
      "Recall Score for Logistic Regression is: 0.9166666666666666\n",
      "Accuracy Score Logestic Regression is : 0.9700598802395209\n"
     ]
    }
   ],
   "source": [
    "print('Precision Score for Logisstic Regression is',precision_score(Y_test,predict))\n",
    "print('Recall Score for Logistic Regression is:',recall_score(Y_test,predict))\n",
    "print('Accuracy Score Logestic Regression is :', accuracy_score(Y_test,predict))"
   ]
  },
  {
   "cell_type": "code",
   "execution_count": 15,
   "metadata": {},
   "outputs": [
    {
     "data": {
      "text/plain": [
       "0.964002664002664"
      ]
     },
     "execution_count": 15,
     "metadata": {},
     "output_type": "execute_result"
    }
   ],
   "source": [
    "#Creates cross validation score from Logistic Model\n",
    "from sklearn.model_selection import cross_val_score,cross_val_predict\n",
    "cv=cross_val_score(log_reg, x_train,y_train, cv=5, scoring='accuracy')\n",
    "cv.mean()"
   ]
  },
  {
   "cell_type": "code",
   "execution_count": 16,
   "metadata": {
    "scrolled": true
   },
   "outputs": [
    {
     "data": {
      "image/png": "[encoded data removed]",
      "text/plain": [
       "<Figure size 432x288 with 1 Axes>"
      ]
     },
     "metadata": {
      "needs_background": "light"
     },
     "output_type": "display_data"
    }
   ],
   "source": [
    "#Plot ROC Curve\n",
    "from sklearn.metrics import roc_curve\n",
    "y_scores=cross_val_predict(log_reg,x_train,y_train,cv=5)\n",
    "\n",
    "fpr,tpr,thresholds=roc_curve(y_train,y_scores)\n",
    "def plot_roc_curve(fpr, tpr, label=None):\n",
    "    plt.plot(fpr, tpr,linewidth=2, label=label)\n",
    "    plt.plot([0,1],[0,1],'k--')\n",
    "    plt.xlabel('False Positive Rate')\n",
    "    plt.ylabel('True Positive Rate')\n",
    "plot_roc_curve(fpr, tpr)\n",
    "plt.show()\n",
    "    "
   ]
  },
  {
   "cell_type": "code",
   "execution_count": 35,
   "metadata": {},
   "outputs": [],
   "source": [
    "log_df=pd.DataFrame(list(zip(Y_test, predict)),columns=['Actual','Predicted'])\n",
    "log_df=log_df.set_index(Y_test.index)\n",
    "\n",
    "log_df=log_df.merge(data[['Player','Year']],left_index=True,right_index=True)\n",
    "cols=['Player','Year','Actual','Predicted']\n",
    "log_df=log_df.reindex(columns=cols)\n",
    "\n",
    "log_df.to_csv('log_predicted.csv')"
   ]
  },
  {
   "cell_type": "code",
   "execution_count": 20,
   "metadata": {},
   "outputs": [
    {
     "data": {
      "text/plain": [
       "GridSearchCV(cv=10, error_score=nan,\n",
       "             estimator=RandomForestClassifier(bootstrap=True, ccp_alpha=0.0,\n",
       "                                              class_weight=None,\n",
       "                                              criterion='gini', max_depth=None,\n",
       "                                              max_features='auto',\n",
       "                                              max_leaf_nodes=None,\n",
       "                                              max_samples=None,\n",
       "                                              min_impurity_decrease=0.0,\n",
       "                                              min_impurity_split=None,\n",
       "                                              min_samples_leaf=1,\n",
       "                                              min_samples_split=2,\n",
       "                                              min_weight_fraction_leaf=0.0,\n",
       "                                              n_estimators=100, n_jobs=None,\n",
       "                                              oob_score=False,\n",
       "                                              random_state=None, verbose=0,\n",
       "                                              warm_start=False),\n",
       "             iid='deprecated', n_jobs=None,\n",
       "             param_grid={'n_estimators': [10, 20, 30, 40, 50, 60, 70, 80, 90,\n",
       "                                          100]},\n",
       "             pre_dispatch='2*n_jobs', refit=True, return_train_score=False,\n",
       "             scoring='accuracy', verbose=0)"
      ]
     },
     "execution_count": 20,
     "metadata": {},
     "output_type": "execute_result"
    }
   ],
   "source": [
    "#Start the Random Forest Machine Learning.\n",
    "\n",
    "random.seed(42)\n",
    "\n",
    "#Set up Random Forest\n",
    "n_estimators=[10,20,30,40,50,60,70,80,90,100]\n",
    "random_forest=RandomForestClassifier()\n",
    "\n",
    "#Set up parameters to perform Grid Search. Use random forest function, the parameters, cross vaildation of 10\n",
    "#and measures scoring by accuracy \n",
    "param_grid=dict(n_estimators=n_estimators)\n",
    "grid=GridSearchCV(random_forest,param_grid, cv=10, scoring='accuracy') \n",
    "\n",
    "#Fit the grid with the data\n",
    "grid.fit(x_train,y_train)\n",
    "    \n",
    "\n"
   ]
  },
  {
   "cell_type": "code",
   "execution_count": 21,
   "metadata": {},
   "outputs": [
    {
     "data": {
      "text/plain": [
       "array([0.96403509, 0.96916329, 0.9717274 , 0.9717274 , 0.9717274 ,\n",
       "       0.96916329, 0.9717274 , 0.96659919, 0.96916329, 0.96659919])"
      ]
     },
     "execution_count": 21,
     "metadata": {},
     "output_type": "execute_result"
    }
   ],
   "source": [
    "#Get mean validation scores for each n_estimator\n",
    "grid.cv_results_['mean_test_score']\n"
   ]
  },
  {
   "cell_type": "code",
   "execution_count": 22,
   "metadata": {},
   "outputs": [
    {
     "name": "stdout",
     "output_type": "stream",
     "text": [
      "{'n_estimators': 50}\n",
      "0.9717273954116059\n",
      "RandomForestClassifier(bootstrap=True, ccp_alpha=0.0, class_weight=None,\n",
      "                       criterion='gini', max_depth=None, max_features='auto',\n",
      "                       max_leaf_nodes=None, max_samples=None,\n",
      "                       min_impurity_decrease=0.0, min_impurity_split=None,\n",
      "                       min_samples_leaf=1, min_samples_split=2,\n",
      "                       min_weight_fraction_leaf=0.0, n_estimators=50,\n",
      "                       n_jobs=None, oob_score=False, random_state=None,\n",
      "                       verbose=0, warm_start=False)\n"
     ]
    }
   ],
   "source": [
    "#Retreieve optimal information to achieve best model\n",
    "print(grid.best_params_)\n",
    "print(grid.best_score_)\n",
    "print (grid.best_estimator_)"
   ]
  },
  {
   "cell_type": "code",
   "execution_count": 23,
   "metadata": {},
   "outputs": [
    {
     "data": {
      "image/png": "[encoded data removed]",
      "text/plain": [
       "<Figure size 432x288 with 1 Axes>"
      ]
     },
     "metadata": {
      "needs_background": "light"
     },
     "output_type": "display_data"
    }
   ],
   "source": [
    "#plot cross validation Results\n",
    "plt.plot(n_estimators,grid.cv_results_['mean_test_score'])\n",
    "plt.xlabel('# of estimators')\n",
    "plt.ylabel('Mean Accuracy')\n",
    "plt.show()"
   ]
  },
  {
   "cell_type": "code",
   "execution_count": 24,
   "metadata": {
    "scrolled": true
   },
   "outputs": [
    {
     "name": "stdout",
     "output_type": "stream",
     "text": [
      "Confusion Matrix w/o Normalization\n",
      "[[142   1]\n",
      " [  2  22]]\n"
     ]
    },
    {
     "data": {
      "image/png": "[encoded data removed]",
      "text/plain": [
       "<Figure size 432x288 with 2 Axes>"
      ]
     },
     "metadata": {
      "needs_background": "light"
     },
     "output_type": "display_data"
    }
   ],
   "source": [
    "#Creates the model with the best hyperparamter \n",
    "final_model=grid.best_estimator_\n",
    "#Predicts the model\n",
    "final_prediction=final_model.predict(X_test)\n",
    "#Creates the confusion matrix\n",
    "forest_cm=confusion_matrix(Y_test,final_prediction)\n",
    "#Plots the confusion matrix\n",
    "plot_confusion_matrix(forest_cm, cm_plot_labels)"
   ]
  },
  {
   "cell_type": "code",
   "execution_count": 26,
   "metadata": {},
   "outputs": [
    {
     "name": "stdout",
     "output_type": "stream",
     "text": [
      "Precision Score for Random Forest is 0.9565217391304348\n",
      "Recall Score for Random Forest is: 0.9166666666666666\n",
      "Accuracy Score Random Forest is : 0.9820359281437125\n"
     ]
    }
   ],
   "source": [
    "print('Precision Score for Random Forest is',precision_score(Y_test,final_prediction))\n",
    "print('Recall Score for Random Forest is:',recall_score(Y_test,final_prediction))\n",
    "print('Accuracy Score Random Forest is :', accuracy_score(Y_test,final_prediction))"
   ]
  },
  {
   "cell_type": "code",
   "execution_count": 71,
   "metadata": {},
   "outputs": [
    {
     "data": {
      "text/plain": [
       "<matplotlib.axes._subplots.AxesSubplot at 0x126818c93c8>"
      ]
     },
     "execution_count": 71,
     "metadata": {},
     "output_type": "execute_result"
    },
    {
     "data": {
      "image/png": "[encoded data removed]",
      "text/plain": [
       "<Figure size 432x288 with 1 Axes>"
      ]
     },
     "metadata": {
      "needs_background": "light"
     },
     "output_type": "display_data"
    }
   ],
   "source": [
    "#Creates Random Forest Using the features with the most importance\n",
    "importances=list(grid.best_estimator_.feature_importances_)\n",
    "\n",
    "feature_importance=[(X,round(importances,2))for X,importances in zip(feature_list, importances)]\n",
    "\n",
    "feature_importance\n",
    "\n",
    "important_indices=[feature_list.index('Fantasy_Point'),feature_list.index('Top_12'),\n",
    "                  feature_list.index('Perfromance_Metric'),feature_list.index('FF_PPG')]\n",
    "\n",
    "pd.Series(importances,index=x_train.columns).nlargest(5).plot(kind='barh')"
   ]
  },
  {
   "cell_type": "code",
   "execution_count": 70,
   "metadata": {},
   "outputs": [
    {
     "data": {
      "text/plain": [
       "[('#Snaps', 0.05),\n",
       " ('%Snaps', 0.02),\n",
       " ('100+Yrd/games', 0.08),\n",
       " ('18+_Touch', 0.04),\n",
       " ('Age', 0.0),\n",
       " ('FF_PPG', 0.1),\n",
       " ('Fantasy_Point', 0.26),\n",
       " ('Fumbles', 0.0),\n",
       " ('GP', 0.0),\n",
       " ('Games_w/TD', 0.02),\n",
       " ('P/Snap', 0.01),\n",
       " ('Perfromance_Metric', 0.07),\n",
       " ('Point/Touch-TD', 0.01),\n",
       " ('Points/Touch', 0.01),\n",
       " ('Rec_TD', 0.01),\n",
       " ('Receiving_Yards', 0.0),\n",
       " ('Reception', 0.01),\n",
       " ('Rush_Att', 0.02),\n",
       " ('Rush_TD', 0.02),\n",
       " ('Rush_Yds', 0.05),\n",
       " ('Target', 0.0),\n",
       " ('Target_Share_%', 0.02),\n",
       " ('Top_12', 0.1),\n",
       " ('Total_TD', 0.05),\n",
       " ('Total_Touches', 0.02),\n",
       " ('Touch/TD', 0.01),\n",
       " ('Yards/Att', 0.0),\n",
       " ('Yards/Rec', 0.01)]"
      ]
     },
     "execution_count": 70,
     "metadata": {},
     "output_type": "execute_result"
    }
   ],
   "source": [
    "feature_importance.sort()\n",
    "\n",
    "feature_importance"
   ]
  },
  {
   "cell_type": "code",
   "execution_count": 57,
   "metadata": {},
   "outputs": [
    {
     "name": "stdout",
     "output_type": "stream",
     "text": [
      "Confusion Matrix w/o Normalization\n",
      "[[141   2]\n",
      " [  2  22]]\n"
     ]
    },
    {
     "data": {
      "image/png": "[encoded data removed]",
      "text/plain": [
       "<Figure size 432x288 with 2 Axes>"
      ]
     },
     "metadata": {
      "needs_background": "light"
     },
     "output_type": "display_data"
    }
   ],
   "source": [
    "#Gets the most important features and make a new data frame\n",
    "X_new=X.iloc[:,[18,19,24,25]]\n",
    "\n",
    "#Split data set into training and test Sets\n",
    "x_train_new,X_test_new,y_train_new,Y_test_new=train_test_split(X_new,Y, test_size=.3,random_state=42)\n",
    "#Creates the Random Forest Classifier\n",
    "rf_most_important=RandomForestClassifier(n_estimators=80, random_state=42)\n",
    "#Fits tghe model\n",
    "rf_most_important.fit(x_train_new,y_train_new)\n",
    "#makes the prediction\n",
    "prediction_new=rf_most_important.predict(X_test_new)\n",
    "#Creates the confusion matrix\n",
    "rf_new_cm=confusion_matrix(prediction_new,Y_test_new)\n",
    "#plots the confusion matrix\n",
    "plot_confusion_matrix(rf_new_cm,cm_plot_labels)"
   ]
  },
  {
   "cell_type": "code",
   "execution_count": 64,
   "metadata": {},
   "outputs": [
    {
     "name": "stdout",
     "output_type": "stream",
     "text": [
      "Precision Score for Random Forest is 0.9166666666666666\n",
      "Recall Score for Random Forest is: 0.9166666666666666\n",
      "Accuracy Socre Random Forest is : 0.9760479041916168\n"
     ]
    }
   ],
   "source": [
    "print('Precision Score for Random Forest is',precision_score(Y_test_new,prediction_new))\n",
    "print('Recall Score for Random Forest is:',recall_score(Y_test_new,prediction_new))\n",
    "print('Accuracy Socre Random Forest is :', accuracy_score(Y_test_new,prediction_new))"
   ]
  },
  {
   "cell_type": "code",
   "execution_count": 60,
   "metadata": {},
   "outputs": [
    {
     "data": {
      "text/plain": [
       "<matplotlib.axes._subplots.AxesSubplot at 0x12682da6708>"
      ]
     },
     "execution_count": 60,
     "metadata": {},
     "output_type": "execute_result"
    },
    {
     "data": {
      "image/png": "[encoded data removed]",
      "text/plain": [
       "<Figure size 432x288 with 1 Axes>"
      ]
     },
     "metadata": {
      "needs_background": "light"
     },
     "output_type": "display_data"
    }
   ],
   "source": [
    "feature_important=pd.Series(rf_most_important.feature_importances_,index=X_new.columns)\n",
    "feature_important.plot(kind='barh')"
   ]
  },
  {
   "cell_type": "code",
   "execution_count": 6,
   "metadata": {},
   "outputs": [],
   "source": [
    "from keras.wrappers.scikit_learn import KerasClassifier\n",
    "from sklearn.model_selection import RandomizedSearchCV\n",
    "from keras.callbacks import EarlyStopping\n",
    "from keras.optimizers import Adam"
   ]
  },
  {
   "cell_type": "code",
   "execution_count": 6,
   "metadata": {},
   "outputs": [],
   "source": [
    "#Sets up Neural Network for model\n",
    "rb_1_model=Sequential([Dense(14, activation='relu',input_dim=28),\n",
    "    Dense(4,activation='relu'),\n",
    "    Dense(2, activation='relu'),\n",
    "    Dense(1,activation='sigmoid'),\n",
    "])"
   ]
  },
  {
   "cell_type": "code",
   "execution_count": 7,
   "metadata": {},
   "outputs": [],
   "source": [
    "#Compiles the model\n",
    "rb_1_model.compile(optimizer='adam',loss='binary_crossentropy',metrics=['accuracy'])\n",
    "history=rb_1_model.fit(x_train,y_train,epochs=100,validation_data=(X_test, Y_test),verbose=0)\n",
    "\n"
   ]
  },
  {
   "cell_type": "code",
   "execution_count": 8,
   "metadata": {},
   "outputs": [
    {
     "name": "stdout",
     "output_type": "stream",
     "text": [
      "389/389 [==============================] - 0s 92us/step\n"
     ]
    },
    {
     "data": {
      "text/plain": [
       "[0.04033252310515369, 0.9845758080482483]"
      ]
     },
     "execution_count": 8,
     "metadata": {},
     "output_type": "execute_result"
    }
   ],
   "source": [
    "#Evaluates the model\n",
    "rb_1_model.evaluate(x_train,y_train)"
   ]
  },
  {
   "cell_type": "code",
   "execution_count": 10,
   "metadata": {},
   "outputs": [
    {
     "name": "stdout",
     "output_type": "stream",
     "text": [
      "Confusion Matrix w/o Normalization\n",
      "[[140   4]\n",
      " [  3  20]]\n"
     ]
    },
    {
     "data": {
      "image/png": "[encoded data removed]",
      "text/plain": [
       "<Figure size 432x288 with 2 Axes>"
      ]
     },
     "metadata": {
      "needs_background": "light"
     },
     "output_type": "display_data"
    }
   ],
   "source": [
    "rb_prediction=rb_1_model.predict_classes(X_test)\n",
    "\n",
    "rb_cm=confusion_matrix(rb_prediction,Y_test)\n",
    "\n",
    "plot_confusion_matrix(rb_cm,cm_plot_labels)"
   ]
  },
  {
   "cell_type": "code",
   "execution_count": 11,
   "metadata": {},
   "outputs": [
    {
     "name": "stdout",
     "output_type": "stream",
     "text": [
      "Precision Score for Neural Network is 0.8695652173913043\n",
      "Recall Score for Neural Network is: 0.8333333333333334\n",
      "Accuracy Score Neural Network is: 0.9580838323353293\n"
     ]
    }
   ],
   "source": [
    "print('Precision Score for Neural Network is',precision_score(Y_test,rb_prediction))\n",
    "print('Recall Score for Neural Network is:',recall_score(Y_test,rb_prediction))\n",
    "print('Accuracy Score Neural Network is:',accuracy_score(Y_test,rb_prediction))"
   ]
  },
  {
   "cell_type": "code",
   "execution_count": 23,
   "metadata": {},
   "outputs": [
    {
     "data": {
      "image/png": "[encoded data removed]",
      "text/plain": [
       "<Figure size 432x288 with 2 Axes>"
      ]
     },
     "metadata": {
      "needs_background": "light"
     },
     "output_type": "display_data"
    }
   ],
   "source": [
    "#Plots Accuracy and Loss train and validation data against Epochs\n",
    "plt.subplot(1,2,1)\n",
    "plt.plot(history.history['loss'])\n",
    "plt.plot(history.history['val_loss'])\n",
    "plt.title(\"Loss\")\n",
    "plt.xlabel('Epochs')\n",
    "plt.ylabel('Loss')\n",
    "plt.legend(['Train','Test'],loc='upper right')\n",
    "\n",
    "\n",
    "plt.subplot(1,2,2)\n",
    "plt.plot(history.history['accuracy'])\n",
    "plt.plot(history.history['val_accuracy'])\n",
    "plt.title('Accuracy')\n",
    "plt.xlabel('Epochs')\n",
    "plt.ylabel('Accuracy %')\n",
    "plt.legend(['Train','Test'],loc='lower right')\n",
    "plt.tight_layout(pad=0.25)\n",
    "plt.show()"
   ]
  },
  {
   "cell_type": "code",
   "execution_count": 6,
   "metadata": {},
   "outputs": [],
   "source": [
    "#Creates the function to be able yo run Random Grid Search to find the best hyperparamters\n",
    "def create_model(learning_rate=0.01,activation='relu'):\n",
    "    model=Sequential()\n",
    "    optimizer=Adam(lr=learning_rate)\n",
    "    model.add(Dense(14,input_dim=28, activation=activation))\n",
    "    model.add(Dense(4, activation=activation))\n",
    "    model.add(Dense(2,activation=activation))\n",
    "    model.add(Dense(1, activation='sigmoid'))\n",
    "    model.compile(loss='binary_crossentropy',optimizer=optimizer,metrics=['accuracy'])\n",
    "    return model"
   ]
  },
  {
   "cell_type": "code",
   "execution_count": 7,
   "metadata": {},
   "outputs": [
    {
     "name": "stdout",
     "output_type": "stream",
     "text": [
      "130/130 [==============================] - 0s 154us/step\n",
      "130/130 [==============================] - 0s 184us/step\n",
      "129/129 [==============================] - 0s 219us/step\n",
      "130/130 [==============================] - 0s 194us/step\n",
      "130/130 [==============================] - 0s 0us/step\n",
      "129/129 [==============================] - 0s 125us/step\n",
      "130/130 [==============================] - 0s 165us/step\n",
      "130/130 [==============================] - 0s 240us/step\n",
      "129/129 [==============================] - 0s 114us/step\n",
      "130/130 [==============================] - 0s 160us/step\n",
      "130/130 [==============================] - 0s 188us/step\n",
      "129/129 [==============================] - 0s 168us/step\n",
      "130/130 [==============================] - 0s 123us/step\n",
      "130/130 [==============================] - 0s 92us/step\n",
      "129/129 [==============================] - 0s 139us/step\n",
      "130/130 [==============================] - 0s 136us/step\n",
      "130/130 [==============================] - 0s 123us/step\n",
      "129/129 [==============================] - 0s 88us/step\n",
      "130/130 [==============================] - 0s 92us/step\n",
      "130/130 [==============================] - 0s 196us/step\n",
      "129/129 [==============================] - 0s 172us/step\n",
      "130/130 [==============================] - 0s 92us/step\n",
      "130/130 [==============================] - 0s 94us/step\n",
      "129/129 [==============================] - 0s 93us/step\n",
      "130/130 [==============================] - 0s 92us/step\n",
      "130/130 [==============================] - 0s 92us/step\n",
      "129/129 [==============================] - 0s 92us/step\n",
      "130/130 [==============================] - 0s 139us/step\n",
      "130/130 [==============================] - 0s 199us/step\n",
      "129/129 [==============================] - 0s 206us/step\n"
     ]
    }
   ],
   "source": [
    "import random\n",
    "#Keras Classifier\n",
    "keras_reg=KerasClassifier(build_fn=create_model)\n",
    "#Sets up parameter dictionary to test optimum hyperparametrs\n",
    "params={\n",
    "    'learning_rate':[.1,.01,.001],\n",
    "    'epochs':[50,60,70,80,90,100]\n",
    "}\n",
    "\n",
    "random.seed(42)\n",
    "\n",
    "#Random Search grid with 3 Kfolds-cross validation\n",
    "rnd_search_cv=RandomizedSearchCV(keras_reg,param_distributions=params,cv=3)\n",
    "#Fits the Random Search gird with train and test data\n",
    "history=rnd_search_cv.fit(x_train,y_train,validation_data=(X_test,Y_test),verbose=0,callbacks=[EarlyStopping(monitor='val_accuracy',patience=10)])\n",
    "\n"
   ]
  },
  {
   "cell_type": "code",
   "execution_count": 8,
   "metadata": {},
   "outputs": [
    {
     "data": {
      "text/plain": [
       "{'learning_rate': 0.01, 'epochs': 100}"
      ]
     },
     "execution_count": 8,
     "metadata": {},
     "output_type": "execute_result"
    }
   ],
   "source": [
    "#Finds the best parameters to run the model through\n",
    "rnd_search_cv.best_params_"
   ]
  },
  {
   "cell_type": "code",
   "execution_count": 9,
   "metadata": {},
   "outputs": [
    {
     "name": "stdout",
     "output_type": "stream",
     "text": [
      "Confusion Matrix w/o Normalization\n",
      "[[140   3]\n",
      " [  5  19]]\n"
     ]
    },
    {
     "data": {
      "image/png": "[encoded data removed]",
      "text/plain": [
       "<Figure size 432x288 with 2 Axes>"
      ]
     },
     "metadata": {
      "needs_background": "light"
     },
     "output_type": "display_data"
    }
   ],
   "source": [
    "#Creates the model with the best hyperparameters\n",
    "rb_1_model=rnd_search_cv.best_estimator_.model\n",
    "#Creates the predictions\n",
    "rb_1_predict=rb_1_model.predict_classes(X_test)\n",
    "#Cretes the confusion matrix\n",
    "rb_1_cm=confusion_matrix(Y_test,rb_1_predict)\n",
    "#plots confusion matrix\n",
    "plot_confusion_matrix(rb_1_cm,cm_plot_labels)\n"
   ]
  },
  {
   "cell_type": "code",
   "execution_count": 10,
   "metadata": {},
   "outputs": [
    {
     "name": "stdout",
     "output_type": "stream",
     "text": [
      "Precision Score for Neural Network is 0.8636363636363636\n",
      "Recall Score for Neural Network is: 0.7916666666666666\n",
      "Accuracy Score Neural Network is: 0.9520958083832335\n"
     ]
    }
   ],
   "source": [
    "print('Precision Score for Neural Network is',precision_score(Y_test,rb_1_predict))\n",
    "print('Recall Score for Neural Network is:',recall_score(Y_test,rb_1_predict))\n",
    "print('Accuracy Score Neural Network is:',accuracy_score(Y_test,rb_1_predict))"
   ]
  },
  {
   "cell_type": "code",
   "execution_count": 7,
   "metadata": {},
   "outputs": [],
   "source": [
    "#creates 2nd Neural Network\n",
    "model_2=Sequential([Dense(14, activation='relu',input_dim=28),\n",
    "    Dense(4,activation='relu'),\n",
    "    Dense(2, activation='relu'),\n",
    "    Dense(1,activation='sigmoid'),\n",
    "])\n",
    "\n",
    "#Use Early Stopping to monitor validation accurarcy and stop the training once patience threshold has been met\n",
    "model_2.compile(loss='binary_crossentropy',optimizer=Adam(lr=.001), metrics=['accuracy'])\n",
    "history_2=model_2.fit(x_train,y_train,validation_data=(X_test, Y_test),verbose=0, epochs=100,\n",
    "                     callbacks=[EarlyStopping(monitor='val_accuracy',patience=10)])\n",
    "\n",
    "    "
   ]
  },
  {
   "cell_type": "code",
   "execution_count": 9,
   "metadata": {},
   "outputs": [
    {
     "data": {
      "image/png": "[encoded data removed]",
      "text/plain": [
       "<Figure size 432x288 with 2 Axes>"
      ]
     },
     "metadata": {
      "needs_background": "light"
     },
     "output_type": "display_data"
    }
   ],
   "source": [
    "#Plots Accuracy and Loss for train and validation data sets\n",
    "plt.subplot(1,2,1)\n",
    "plt.plot(history_2.history['loss'])\n",
    "plt.plot(history_2.history['val_loss'])\n",
    "plt.title(\"Loss\")\n",
    "plt.xlabel('Epochs')\n",
    "plt.ylabel('Loss')\n",
    "plt.legend(['Train','Test'],loc='upper right')\n",
    "\n",
    "\n",
    "plt.subplot(1,2,2)\n",
    "plt.plot(history_2.history['accuracy'])\n",
    "plt.plot(history_2.history['val_accuracy'])\n",
    "plt.title('Accuracy')\n",
    "plt.xlabel('Epochs')\n",
    "plt.ylabel('Accuracy %')\n",
    "plt.legend(['Train','Test'],loc='lower right')\n",
    "plt.tight_layout(pad=0.25)\n",
    "plt.show()"
   ]
  },
  {
   "cell_type": "code",
   "execution_count": 10,
   "metadata": {},
   "outputs": [
    {
     "name": "stdout",
     "output_type": "stream",
     "text": [
      "Confusion Matrix w/o Normalization\n",
      "[[137   3]\n",
      " [  6  21]]\n"
     ]
    },
    {
     "data": {
      "image/png": "[encoded data removed]",
      "text/plain": [
       "<Figure size 432x288 with 2 Axes>"
      ]
     },
     "metadata": {
      "needs_background": "light"
     },
     "output_type": "display_data"
    }
   ],
   "source": [
    "#Plots the confusion matrix\n",
    "classes=model_2.predict_classes(X_test)\n",
    "\n",
    "class_cm=confusion_matrix(classes,Y_test)\n",
    "\n",
    "plot_confusion_matrix(class_cm, cm_plot_labels)"
   ]
  },
  {
   "cell_type": "code",
   "execution_count": 11,
   "metadata": {},
   "outputs": [
    {
     "name": "stdout",
     "output_type": "stream",
     "text": [
      "Precision Score for Neural Network is 0.7777777777777778\n",
      "Recall Score for Neural Network is: 0.875\n",
      "Accuracy Score Neural Network is: 0.9461077844311377\n"
     ]
    }
   ],
   "source": [
    "print('Precision Score for Neural Network is',precision_score(Y_test,classes))\n",
    "print('Recall Score for Neural Network is:',recall_score(Y_test,classes))\n",
    "print('Accuracy Score Neural Network is:',accuracy_score(Y_test,classes))"
   ]
  },
  {
   "cell_type": "markdown",
   "metadata": {},
   "source": [
    "After running several different models through the Running back data, Random Forest did the best of the models in predicting whether a running back would finish as Running Back 1, i.e., finish top 12 in fantasy scoring. I was able to perform a feauture importance to extract the most important features for the Random Forest and was able to get the same results with just 4 variables as opposed to using all 28 variables."
   ]
  }
 ],
 "metadata": {
  "kernelspec": {
   "display_name": "Python 3",
   "language": "python",
   "name": "python3"
  },
  "language_info": {
   "codemirror_mode": {
    "name": "ipython",
    "version": 3
   },
   "file_extension": ".py",
   "mimetype": "text/x-python",
   "name": "python",
   "nbconvert_exporter": "python",
   "pygments_lexer": "ipython3",
   "version": "3.7.4"
  }
 },
 "nbformat": 4,
 "nbformat_minor": 4
}
